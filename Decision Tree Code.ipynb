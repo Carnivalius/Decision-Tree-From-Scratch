{
 "cells": [
  {
   "cell_type": "markdown",
   "metadata": {},
   "source": [
    "# Decision Tree Code\n",
    "\n",
    "This code enables you to build a decision tree"
   ]
  },
  {
   "cell_type": "code",
   "execution_count": 2,
   "metadata": {},
   "outputs": [],
   "source": [
    "import pandas as pd\n",
    "import numpy as np\n",
    "import os"
   ]
  },
  {
   "cell_type": "code",
   "execution_count": 3,
   "metadata": {},
   "outputs": [],
   "source": [
    "# We will want a class\n",
    "# Should have __init__ function\n",
    "# Should have __str__ function\n",
    "def giniimpurity(df,col='value'):\n",
    "    \"\"\"\n",
    "    Calculates the gini impurity score by calculating the probability of selecting an item from a group\n",
    "    and multiplies it by the probability of it being assigned ot one of the other groups\n",
    "    This is then repeated and summed to get a total purity\n",
    "    \"\"\"\n",
    "    def uniquecounts(df,col = 'value'):\n",
    "        \"\"\"\n",
    "        Takes a dataframe and a column and counts the number of time each distinct entry apppears\n",
    "        in that column before returning it\n",
    "        \"\"\"\n",
    "        temp = df[col].value_counts().reset_index()\n",
    "        temp.columns = [col,'Counts']\n",
    "        return temp\n",
    "    \n",
    "    total=len(df)\n",
    "    counts = uniquecounts(df,col=col)\n",
    "    entries = counts[col].unique() # Number of unique entries\n",
    "    imp=0.0\n",
    "    for k1 in entries:\n",
    "        p1 = counts.loc[counts[col]==k1,'Counts'].sum()/total\n",
    "        for k2 in entries:\n",
    "            if k1==k2:continue\n",
    "            p2=counts.loc[counts[col]==k2,'Counts'].sum()/total\n",
    "            imp+=p1*p2\n",
    "    return imp\n",
    "\n",
    "class TreeNode:\n",
    "    \n",
    "    def __init__(self,l,r,decision_function=giniimpurity):\n",
    "        self.decision_function = decision_function\n",
    "        self.l = l\n",
    "        self.r = r\n",
    "    \n",
    "    def __str__(self):\n",
    "        pass\n",
    "    "
   ]
  },
  {
   "cell_type": "code",
   "execution_count": null,
   "metadata": {},
   "outputs": [],
   "source": []
  }
 ],
 "metadata": {
  "kernelspec": {
   "display_name": "Python 3",
   "language": "python",
   "name": "python3"
  },
  "language_info": {
   "codemirror_mode": {
    "name": "ipython",
    "version": 3
   },
   "file_extension": ".py",
   "mimetype": "text/x-python",
   "name": "python",
   "nbconvert_exporter": "python",
   "pygments_lexer": "ipython3",
   "version": "3.7.4"
  }
 },
 "nbformat": 4,
 "nbformat_minor": 2
}
