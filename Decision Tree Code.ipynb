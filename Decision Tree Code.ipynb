{
 "cells": [
  {
   "cell_type": "markdown",
   "metadata": {},
   "source": [
    "# Decision Tree Code\n",
    "\n",
    "This code enables you to build a decision tree"
   ]
  },
  {
   "cell_type": "code",
   "execution_count": 23,
   "metadata": {},
   "outputs": [],
   "source": [
    "import pandas as pd\n",
    "import numpy as np\n",
    "import os"
   ]
  },
  {
   "cell_type": "markdown",
   "metadata": {},
   "source": [
    "# Code to Construct DataFrame"
   ]
  },
  {
   "cell_type": "code",
   "execution_count": 24,
   "metadata": {},
   "outputs": [
    {
     "data": {
      "text/html": [
       "<div>\n",
       "<style scoped>\n",
       "    .dataframe tbody tr th:only-of-type {\n",
       "        vertical-align: middle;\n",
       "    }\n",
       "\n",
       "    .dataframe tbody tr th {\n",
       "        vertical-align: top;\n",
       "    }\n",
       "\n",
       "    .dataframe thead th {\n",
       "        text-align: right;\n",
       "    }\n",
       "</style>\n",
       "<table border=\"1\" class=\"dataframe\">\n",
       "  <thead>\n",
       "    <tr style=\"text-align: right;\">\n",
       "      <th></th>\n",
       "      <th>Shoe Slipperiness</th>\n",
       "      <th>Floor Slipperiness</th>\n",
       "      <th>value</th>\n",
       "    </tr>\n",
       "  </thead>\n",
       "  <tbody>\n",
       "    <tr>\n",
       "      <td>0</td>\n",
       "      <td>0</td>\n",
       "      <td>0</td>\n",
       "      <td>No Fall</td>\n",
       "    </tr>\n",
       "    <tr>\n",
       "      <td>1</td>\n",
       "      <td>1</td>\n",
       "      <td>0</td>\n",
       "      <td>No Fall</td>\n",
       "    </tr>\n",
       "    <tr>\n",
       "      <td>2</td>\n",
       "      <td>2</td>\n",
       "      <td>0</td>\n",
       "      <td>Fall</td>\n",
       "    </tr>\n",
       "    <tr>\n",
       "      <td>3</td>\n",
       "      <td>3</td>\n",
       "      <td>0</td>\n",
       "      <td>Fall</td>\n",
       "    </tr>\n",
       "    <tr>\n",
       "      <td>4</td>\n",
       "      <td>4</td>\n",
       "      <td>0</td>\n",
       "      <td>Fall</td>\n",
       "    </tr>\n",
       "  </tbody>\n",
       "</table>\n",
       "</div>"
      ],
      "text/plain": [
       "   Shoe Slipperiness Floor Slipperiness    value\n",
       "0                  0                  0  No Fall\n",
       "1                  1                  0  No Fall\n",
       "2                  2                  0     Fall\n",
       "3                  3                  0     Fall\n",
       "4                  4                  0     Fall"
      ]
     },
     "execution_count": 24,
     "metadata": {},
     "output_type": "execute_result"
    }
   ],
   "source": [
    "x_col = 'Floor Slipperiness'\n",
    "y_col = 'Shoe Slipperiness'\n",
    "value_map = {0:'No Fall',1:'Fall'}\n",
    "\n",
    "# Test data Frame\n",
    "# Altering this is reflected in the dataframe and the graphs produced, e,g, a 5x5 makes a 25 point graph\n",
    "# a \"1\" means it's labelled as a \"Fall\" and \"0\" means it's labelled as a \"No Fall\"\n",
    "# It assumes datapoints are labelled 0,1,2,3,4 etc. Feel free to add functionality to assign different values!\n",
    "test = [\n",
    "[1,1,1,1,1],\n",
    "[1,1,1,1,1],\n",
    "[1,1,0,1,1],\n",
    "[0,0,0,1,1],\n",
    "[0,0,1,1,1]]\n",
    "\n",
    "# Make the data grid\n",
    "df = pd.DataFrame(test)\n",
    "\n",
    "# reset index so the above grip relates to the graph\n",
    "df = df.reindex(index=df.index[::-1]).reset_index(drop=True)\n",
    "\n",
    "df.reset_index(inplace=True)\n",
    "# rename\n",
    "df.rename({'index':y_col},inplace=True,axis='columns')\n",
    "\n",
    "# Melt it (this turns the grid into a more usable dataframe)\n",
    "# Have to extract the colums for the x_values while ignoring the column for the Shoe Slipperiness\n",
    "col_list = list(df.columns)\n",
    "# remove the y column name from the list (so we get just the x axis values)\n",
    "col_list.remove(y_col)\n",
    "\n",
    "df_format = pd.melt(df.reset_index(),id_vars=[y_col],value_vars=col_list)\n",
    "df_format.rename({'variable':x_col},inplace=True,axis='columns')\n",
    "# remap the value column\n",
    "df_format['value']=df_format['value'].map(value_map)\n",
    "\n",
    "# save it, Uncomment if you want this file (e.g. to put into an Excel file)\n",
    "# df_format.to_csv('Slip_Data.csv',index=False)\n",
    "\n",
    "# Display Output\n",
    "df_format.head(5)"
   ]
  },
  {
   "cell_type": "markdown",
   "metadata": {},
   "source": [
    "# Previous Code for Selecting Splits"
   ]
  },
  {
   "cell_type": "code",
   "execution_count": 91,
   "metadata": {},
   "outputs": [],
   "source": [
    "\n",
    "def uniquecounts(df,col = 'value'):\n",
    "    \"\"\"\n",
    "    Takes a dataframe and a column and counts the number of time each distinct entry apppears\n",
    "    in that column before returning it\n",
    "    \"\"\"\n",
    "    temp = df[col].value_counts().reset_index()\n",
    "    temp.columns = [col,'Counts']\n",
    "    return temp\n",
    "\n",
    "def giniimpurity(df,col='value'):\n",
    "    \"\"\"\n",
    "    Calculates the gini impurity score by calculating the probability of selecting an item from a group\n",
    "    and multiplies it by the probability of it being assigned ot one of the other groups\n",
    "    This is then repeated and summed to get a total purity\n",
    "    \"\"\"\n",
    "\n",
    "    \n",
    "    total=len(df)\n",
    "    counts = uniquecounts(df,col=col)\n",
    "    entries = counts[col].unique() # Number of unique entries\n",
    "    imp=0.0\n",
    "    for k1 in entries:\n",
    "        p1 = counts.loc[counts[col]==k1,'Counts'].sum()/total\n",
    "        for k2 in entries:\n",
    "            if k1==k2:continue\n",
    "            p2=counts.loc[counts[col]==k2,'Counts'].sum()/total\n",
    "            imp+=p1*p2\n",
    "    return imp\n",
    "\n",
    "def dividedf(df,column,value):\n",
    "    \"\"\"\n",
    "    This function splits a dataframe based on a column and a value\n",
    "    If the value is a number it assigns all items greater or equal to it to one group\n",
    "    and the rest to the second\n",
    "    If the value is not a number then it assigns all items that exactly match that value to that group\n",
    "    and the rest goes in the second group\n",
    "    \"\"\"\n",
    "    # We work out if the value is a number or not\n",
    "    val_type = df[column].tolist()[-1]\n",
    "    if pd.api.types.is_number(val_type):\n",
    "        mask = df[column]>=value\n",
    "    else:\n",
    "        mask = df[column]==value\n",
    "\n",
    "    # Split into separate sets\n",
    "    first_set = df.loc[mask,:].reset_index(drop=True)\n",
    "    second_set = df.loc[~mask,:].reset_index(drop=True)\n",
    "    return first_set, second_set\n",
    "\n",
    "def findbest(df,scorer=giniimpurity,val_col='value'):\n",
    "    \"\"\"\n",
    "    This function takes a dataframe and a way of scoring a split and then iterates over the dataframe\n",
    "    The output is the best split groups alongside the column and values used to make that split\n",
    "    \"\"\"\n",
    "    \n",
    "    col_list = list(df.columns)\n",
    "    # remove the value column\n",
    "    col_list.remove(val_col)\n",
    "    # What's the current score\n",
    "    current_score = scorer(df,col=val_col)\n",
    "    print(\"Initial Score: {}\".format(current_score))\n",
    "\n",
    "    \n",
    "    # Iterate over the columns\n",
    "    best_gain = 0.0\n",
    "    best_criteria=None\n",
    "    best_column=None\n",
    "    for col in col_list:\n",
    "        local_gain = 0.0\n",
    "        local_column = None\n",
    "        local_criteria = None\n",
    "        unique_vals = df.loc[:,col].unique()\n",
    "        for value in unique_vals:\n",
    "            # Perform a split at that value\n",
    "            set1, set2 = dividedf(df,col,value)\n",
    "            # We weight the change by the fraction of each resulting set (i.e. smaller set has lower contribution)\n",
    "            set1_fraction = len(set1)/len(df)\n",
    "\n",
    "            # calculate the gain of impurity\n",
    "            gain = current_score-set1_fraction*scorer(set1,col=val_col)-(1-set1_fraction)*scorer(set2,col=val_col)\n",
    "\n",
    "            # Check if there's a gain, also we exclude data where there is no split (i.e. all data in one set)\n",
    "            if gain>local_gain and len(set1)>0 and len(set2)>0:\n",
    "                local_gain=gain\n",
    "                local_column = col\n",
    "                local_criteria = value\n",
    "            if gain>best_gain and len(set1)>0 and len(set2)>0:\n",
    "                best_gain = gain\n",
    "                best_column = col\n",
    "                best_criteria = value\n",
    "                # update criteria to be inbetween\n",
    "        # To make the graph easier we assign the split as between the two values and not at it for the local best split\n",
    "        # We will change this back for future builds where we are looking at classes and not continuous numbers\n",
    "#         next_best = df.loc[df[local_column]<local_criteria,local_column].max()\n",
    "#         local_criteria = (local_criteria+next_best)/2\n",
    "        # Print local best set\n",
    "#         print(\"For Column {}, best gain was {} for split at {}\".format(local_column,round(local_gain,4),local_criteria))\n",
    "    # Update global best to be between groups for better visualisation on the graphs\n",
    "    next_best = df.loc[df[best_column]<best_criteria,best_column].max()\n",
    "    best_criteria = (best_criteria+next_best)/2    \n",
    "    # Print Overal Best Find\n",
    "    print(\"\\nBest selection was:\")\n",
    "    print(\"For Column {}, best gain was {} for split at {}\".format(best_column,round(best_gain,4),best_criteria))\n",
    "    \n",
    "    # do best cut and return\n",
    "    set1, set2 = dividedf(df,best_column,best_criteria)\n",
    "    set1_fraction = len(set1)/len(df)\n",
    "    set1_score = scorer(set1,col=val_col)\n",
    "    set2_score = scorer(set2,col=val_col)\n",
    "    weighted_score = set1_fraction*set1_score-(1-set1_fraction)*set2_score\n",
    "    print(\"First Group ({} rows) Score: {} and Second Group ({} rows) Score: {}\".format(len(set1),round(set1_score,4),\n",
    "                                                                                        len(set2),round(set2_score,4)))\n",
    "    \n",
    "    return set1, set2, best_column, best_criteria"
   ]
  },
  {
   "cell_type": "markdown",
   "metadata": {},
   "source": [
    "# Decision Tree Building Code"
   ]
  },
  {
   "cell_type": "code",
   "execution_count": 92,
   "metadata": {},
   "outputs": [
    {
     "data": {
      "text/plain": [
       "value     Fall\n",
       "Counts      19\n",
       "Name: 0, dtype: object"
      ]
     },
     "execution_count": 92,
     "metadata": {},
     "output_type": "execute_result"
    }
   ],
   "source": [
    "temp = uniquecounts(df_format).iloc[0,:]\n",
    "temp"
   ]
  },
  {
   "cell_type": "code",
   "execution_count": 145,
   "metadata": {
    "scrolled": true
   },
   "outputs": [
    {
     "name": "stdout",
     "output_type": "stream",
     "text": [
      "Initial Score: 0.3648\n",
      "\n",
      "Best selection was:\n",
      "For Column Shoe Slipperiness, best gain was 0.0901 for split at 1.5\n",
      "First Group (15 rows) Score: 0.1244 and Second Group (10 rows) Score: 0.5\n",
      "Initial Score: 0.12444444444444444\n",
      "\n",
      "Best selection was:\n",
      "For Column Shoe Slipperiness, best gain was 0.0178 for split at 2.5\n",
      "First Group (10 rows) Score: 0.0 and Second Group (5 rows) Score: 0.32\n",
      "Initial Score: 0.32000000000000006\n",
      "\n",
      "Best selection was:\n",
      "For Column Floor Slipperiness, best gain was 0.0533 for split at 1.5\n",
      "First Group (3 rows) Score: 0.4444 and Second Group (2 rows) Score: 0.0\n",
      "Initial Score: 0.4444444444444444\n",
      "\n",
      "Best selection was:\n",
      "For Column Floor Slipperiness, best gain was 0.4444 for split at 2.5\n",
      "First Group (2 rows) Score: 0.0 and Second Group (1 rows) Score: 0.0\n",
      "Initial Score: 0.5\n",
      "\n",
      "Best selection was:\n",
      "For Column Floor Slipperiness, best gain was 0.3333 for split at 1.5\n",
      "First Group (6 rows) Score: 0.2778 and Second Group (4 rows) Score: 0.0\n",
      "Initial Score: 0.2777777777777778\n",
      "\n",
      "Best selection was:\n",
      "For Column Floor Slipperiness, best gain was 0.1111 for split at 2.5\n",
      "First Group (4 rows) Score: 0.0 and Second Group (2 rows) Score: 0.5\n",
      "Initial Score: 0.5\n",
      "\n",
      "Best selection was:\n",
      "For Column Shoe Slipperiness, best gain was 0.5 for split at 0.5\n",
      "First Group (1 rows) Score: 0.0 and Second Group (1 rows) Score: 0.0\n"
     ]
    }
   ],
   "source": [
    "# We will want a class\n",
    "# Should have __init__ function to store the data\n",
    "# Should have __str__ function to print it out\n",
    "\n",
    "class TreeNode:\n",
    "    \n",
    "    def __init__(self,depth,column=None,value=None,results=None,true_branch=None,false_branch=None):\n",
    "        self.split_column = column\n",
    "        self.split_value = value\n",
    "        self.results = results\n",
    "        self.true_branch = true_branch\n",
    "        self.false_branch = false_branch\n",
    "        self.depth = depth\n",
    "    \n",
    "    def __str__(self):\n",
    "        # Check if it's a result node\n",
    "        if self.results==None:\n",
    "            return str(self.depth*\"    \"+\"{}. {}>={}?:\\n\".format(self.depth+1,self.split_column,self.split_value)+\n",
    "                       str(self.true_branch) + \"\\n\"+self.depth*\"    \"+\"{}. {}<{}?:\\n\".format(self.depth+1,self.split_column,self.split_value) + str(self.false_branch))\n",
    "        else: # If it is an edge/leaf, check if it is the true of false branch\n",
    "            return str(self.depth*\"    \"+\"Results -> {} : {} samples\".format(self.results[0],self.results[1]))\n",
    "\n",
    "    def predict(self,df):\n",
    "        if self.results==None:\n",
    "            if (df[self.split_column]>=self.split_value)==True:\n",
    "                return self.true_branch.predict(df)\n",
    "            else:\n",
    "                return self.false_branch.predict(df)\n",
    "        else:\n",
    "            return self.results[0]\n",
    "        \n",
    "    def return_depth(self):\n",
    "        if self.results==None:\n",
    "            return max(self.true_branch.return_depth(),self.false_branch.return_depth())\n",
    "        else:\n",
    "            return self.depth\n",
    "    \n",
    "def buildTree(df,decision_function=giniimpurity,val_col='value',depth=0):\n",
    "    \"\"\"\n",
    "    This function recursively builds a tree and returns it\n",
    "    The returned built tree can be used to make predictions\n",
    "    \"\"\"\n",
    "    score = decision_function(df,val_col)\n",
    "    if score==0.0: # Check if it's pure and therefore an edge\n",
    "        # return an edge\n",
    "        vals = uniquecounts(df,col = val_col).iloc[0,:]\n",
    "#         print(vals[val_col],vals['Counts'])\n",
    "        return TreeNode(results=(vals[val_col],vals['Counts']),depth=depth) \n",
    "    \n",
    "    # Find the best split\n",
    "    set1, set2, best_column, best_criteria = findbest(df,decision_function,val_col)\n",
    "    \n",
    "#     display(set1.head())\n",
    "#     display(set2.head())\n",
    "    true_branch = buildTree(set1,decision_function,val_col,depth+1)\n",
    "    false_branch = buildTree(set2,decision_function,val_col,depth+1)\n",
    "    # Build this into a new tree\n",
    "    return TreeNode(depth,column=best_column,value=best_criteria,true_branch=true_branch,false_branch=false_branch)\n",
    "\n",
    "    \n",
    "#     # Check if there was no split to find (i.e. Pure set)\n",
    "#     if type(set1)==pd.core.frame.DataFrame:    \n",
    "#         display(set1.head())\n",
    "#         display(set2.head())\n",
    "#         true_branch = buildTree(set1,decision_function,val_col,depth+1)\n",
    "#         false_branch = buildTree(set2,decision_function,val_col,depth+1)\n",
    "#         # Build this into a new tree\n",
    "#         return TreeNode(depth,column=best_column,value=best_criteria,true_branch=true_branch,false_branch=false_branch)\n",
    "\n",
    "#     else:\n",
    "#         # return an edge\n",
    "#         vals = uniquecounts(df,col = val_col).iloc[0,:]\n",
    "# #         print(vals[val_col],vals['Counts'])\n",
    "#         return TreeNode(results=(vals[val_col],vals['Counts']),depth=depth)  \n",
    "    \n",
    "    \n",
    "tree = buildTree(df_format)\n",
    "# print(tree)"
   ]
  },
  {
   "cell_type": "markdown",
   "metadata": {},
   "source": [
    "# Visualise The Tree\n",
    "\n",
    "What questions are being asked of the data?\n",
    "\n",
    "Calling the print function on the tree will trigger the \"__str__\" function causing it to output its contents"
   ]
  },
  {
   "cell_type": "code",
   "execution_count": 146,
   "metadata": {},
   "outputs": [
    {
     "data": {
      "text/plain": [
       "4"
      ]
     },
     "execution_count": 146,
     "metadata": {},
     "output_type": "execute_result"
    }
   ],
   "source": [
    "# How deep is the tree? (i.e how many questions deep does it go?)\n",
    "tree.return_depth()"
   ]
  },
  {
   "cell_type": "code",
   "execution_count": 147,
   "metadata": {},
   "outputs": [
    {
     "name": "stdout",
     "output_type": "stream",
     "text": [
      "1. Shoe Slipperiness>=1.5?:\n",
      "    2. Shoe Slipperiness>=2.5?:\n",
      "        Results -> Fall : 10 samples\n",
      "    2. Shoe Slipperiness<2.5?:\n",
      "        3. Floor Slipperiness>=1.5?:\n",
      "            4. Floor Slipperiness>=2.5?:\n",
      "                Results -> Fall : 2 samples\n",
      "            4. Floor Slipperiness<2.5?:\n",
      "                Results -> No Fall : 1 samples\n",
      "        3. Floor Slipperiness<1.5?:\n",
      "            Results -> Fall : 2 samples\n",
      "1. Shoe Slipperiness<1.5?:\n",
      "    2. Floor Slipperiness>=1.5?:\n",
      "        3. Floor Slipperiness>=2.5?:\n",
      "            Results -> Fall : 4 samples\n",
      "        3. Floor Slipperiness<2.5?:\n",
      "            4. Shoe Slipperiness>=0.5?:\n",
      "                Results -> No Fall : 1 samples\n",
      "            4. Shoe Slipperiness<0.5?:\n",
      "                Results -> Fall : 1 samples\n",
      "    2. Floor Slipperiness<1.5?:\n",
      "        Results -> No Fall : 4 samples\n"
     ]
    }
   ],
   "source": [
    "print(tree)"
   ]
  },
  {
   "cell_type": "markdown",
   "metadata": {},
   "source": [
    "# Make a prediction\n",
    "\n",
    "This will take a sliced row of the dataframe (a Series) and will apply the relevant questions to it\n",
    "\n",
    "**Note** It is expecting numerical values to query and not categories. This code can be improved to enable this."
   ]
  },
  {
   "cell_type": "code",
   "execution_count": 139,
   "metadata": {},
   "outputs": [
    {
     "data": {
      "text/html": [
       "<div>\n",
       "<style scoped>\n",
       "    .dataframe tbody tr th:only-of-type {\n",
       "        vertical-align: middle;\n",
       "    }\n",
       "\n",
       "    .dataframe tbody tr th {\n",
       "        vertical-align: top;\n",
       "    }\n",
       "\n",
       "    .dataframe thead th {\n",
       "        text-align: right;\n",
       "    }\n",
       "</style>\n",
       "<table border=\"1\" class=\"dataframe\">\n",
       "  <thead>\n",
       "    <tr style=\"text-align: right;\">\n",
       "      <th></th>\n",
       "      <th>Shoe Slipperiness</th>\n",
       "      <th>Floor Slipperiness</th>\n",
       "      <th>value</th>\n",
       "    </tr>\n",
       "  </thead>\n",
       "  <tbody>\n",
       "    <tr>\n",
       "      <td>0</td>\n",
       "      <td>0</td>\n",
       "      <td>0</td>\n",
       "      <td>No Fall</td>\n",
       "    </tr>\n",
       "    <tr>\n",
       "      <td>1</td>\n",
       "      <td>1</td>\n",
       "      <td>0</td>\n",
       "      <td>No Fall</td>\n",
       "    </tr>\n",
       "    <tr>\n",
       "      <td>2</td>\n",
       "      <td>2</td>\n",
       "      <td>0</td>\n",
       "      <td>Fall</td>\n",
       "    </tr>\n",
       "    <tr>\n",
       "      <td>3</td>\n",
       "      <td>3</td>\n",
       "      <td>0</td>\n",
       "      <td>Fall</td>\n",
       "    </tr>\n",
       "    <tr>\n",
       "      <td>4</td>\n",
       "      <td>4</td>\n",
       "      <td>0</td>\n",
       "      <td>Fall</td>\n",
       "    </tr>\n",
       "    <tr>\n",
       "      <td>5</td>\n",
       "      <td>0</td>\n",
       "      <td>1</td>\n",
       "      <td>No Fall</td>\n",
       "    </tr>\n",
       "    <tr>\n",
       "      <td>6</td>\n",
       "      <td>1</td>\n",
       "      <td>1</td>\n",
       "      <td>No Fall</td>\n",
       "    </tr>\n",
       "    <tr>\n",
       "      <td>7</td>\n",
       "      <td>2</td>\n",
       "      <td>1</td>\n",
       "      <td>Fall</td>\n",
       "    </tr>\n",
       "    <tr>\n",
       "      <td>8</td>\n",
       "      <td>3</td>\n",
       "      <td>1</td>\n",
       "      <td>Fall</td>\n",
       "    </tr>\n",
       "    <tr>\n",
       "      <td>9</td>\n",
       "      <td>4</td>\n",
       "      <td>1</td>\n",
       "      <td>Fall</td>\n",
       "    </tr>\n",
       "  </tbody>\n",
       "</table>\n",
       "</div>"
      ],
      "text/plain": [
       "   Shoe Slipperiness Floor Slipperiness    value\n",
       "0                  0                  0  No Fall\n",
       "1                  1                  0  No Fall\n",
       "2                  2                  0     Fall\n",
       "3                  3                  0     Fall\n",
       "4                  4                  0     Fall\n",
       "5                  0                  1  No Fall\n",
       "6                  1                  1  No Fall\n",
       "7                  2                  1     Fall\n",
       "8                  3                  1     Fall\n",
       "9                  4                  1     Fall"
      ]
     },
     "metadata": {},
     "output_type": "display_data"
    },
    {
     "data": {
      "text/plain": [
       "Shoe Slipperiness        2\n",
       "Floor Slipperiness       0\n",
       "value                 Fall\n",
       "Name: 2, dtype: object"
      ]
     },
     "metadata": {},
     "output_type": "display_data"
    },
    {
     "data": {
      "text/plain": [
       "'Fall'"
      ]
     },
     "execution_count": 139,
     "metadata": {},
     "output_type": "execute_result"
    }
   ],
   "source": [
    "# Make a prediction\n",
    "# For this we want an array\n",
    "display(df_format.head(10))\n",
    "\n",
    "test = df_format.loc[2,:] # Let us take the third row (labelled as 2)\n",
    "display(test) # Display what the row looks likes\n",
    "\n",
    "# Make a prediction and return it\n",
    "tree.predict(test)"
   ]
  },
  {
   "cell_type": "code",
   "execution_count": 26,
   "metadata": {},
   "outputs": [
    {
     "data": {
      "text/plain": [
       "True"
      ]
     },
     "execution_count": 26,
     "metadata": {},
     "output_type": "execute_result"
    }
   ],
   "source": [
    "val=None\n",
    "val==None"
   ]
  },
  {
   "cell_type": "code",
   "execution_count": 59,
   "metadata": {},
   "outputs": [
    {
     "name": "stdout",
     "output_type": "stream",
     "text": [
      "            Hi\n"
     ]
    }
   ],
   "source": [
    "class Test:\n",
    "    def __init__(self,depth,values=\"Hello\"):\n",
    "        self.depth = depth\n",
    "        self.values=values\n",
    "        \n",
    "    def __str__(self):\n",
    "        if self.values=='Hello':\n",
    "            return str(self.values)\n",
    "        else:\n",
    "            return str(self.depth*\"  \"+self.values)\n",
    "    \n",
    "    def predict(self):\n",
    "        pass\n",
    "        \n",
    "all_val = Test(6,\"Hi\")\n",
    "print(all_val)"
   ]
  },
  {
   "cell_type": "code",
   "execution_count": 17,
   "metadata": {},
   "outputs": [
    {
     "data": {
      "text/plain": [
       "<__main__.Test at 0x7fbd8072d290>"
      ]
     },
     "execution_count": 17,
     "metadata": {},
     "output_type": "execute_result"
    }
   ],
   "source": [
    "all_val"
   ]
  },
  {
   "cell_type": "code",
   "execution_count": 18,
   "metadata": {},
   "outputs": [
    {
     "name": "stdout",
     "output_type": "stream",
     "text": [
      "      Hello\n"
     ]
    }
   ],
   "source": [
    "print(all_val)"
   ]
  },
  {
   "cell_type": "code",
   "execution_count": null,
   "metadata": {},
   "outputs": [],
   "source": []
  }
 ],
 "metadata": {
  "kernelspec": {
   "display_name": "Python 3",
   "language": "python",
   "name": "python3"
  },
  "language_info": {
   "codemirror_mode": {
    "name": "ipython",
    "version": 3
   },
   "file_extension": ".py",
   "mimetype": "text/x-python",
   "name": "python",
   "nbconvert_exporter": "python",
   "pygments_lexer": "ipython3",
   "version": "3.7.4"
  }
 },
 "nbformat": 4,
 "nbformat_minor": 2
}
